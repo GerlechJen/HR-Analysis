{
 "cells": [
  {
   "cell_type": "markdown",
   "id": "9e368631",
   "metadata": {},
   "source": [
    "# Exploratory Data Analysis using Python"
   ]
  },
  {
   "cell_type": "code",
   "execution_count": 1,
   "id": "52907bd7",
   "metadata": {},
   "outputs": [],
   "source": [
    "import warnings \n",
    "warnings.filterwarnings (\"ignore\")\n",
    "\n",
    "\n",
    "import pandas as pd\n",
    "import numpy as np \n",
    "import matplotlib.pyplot as plt\n",
    "import seaborn as sns \n",
    "from sklearn.tree import DecisionTreeClassifier \n",
    "from sklearn.model_selection import train_test_split\n",
    "from sklearn.metrics import classification_report, confusion_matrix, precision_score, recall_score, f1_score\n",
    "from sklearn import tree\n",
    "\n",
    "import xgboost \n",
    "from sklearn.linear_model import LogisticRegression\n",
    "from sklearn.ensemble import RandomForestClassifier\n",
    "from xgboost import XGBClassifier \n",
    "from sklearn.model_selection import GridSearchCV\n",
    "\n",
    "import pymysql\n",
    "import math \n",
    "from functools import reduce \n",
    "\n"
   ]
  },
  {
   "cell_type": "code",
   "execution_count": 2,
   "id": "b44e45ae",
   "metadata": {},
   "outputs": [],
   "source": [
    "pd.set_option(\"display.max_column\",None)"
   ]
  },
  {
   "cell_type": "code",
   "execution_count": 3,
   "id": "7e1559a9",
   "metadata": {},
   "outputs": [],
   "source": [
    "db = pymysql.connect(host = \"localhost\", user = \"root\", password = \"Pneuma88*\", database = \"hrdata\")"
   ]
  },
  {
   "cell_type": "code",
   "execution_count": 4,
   "id": "31a9f03c",
   "metadata": {},
   "outputs": [],
   "source": [
    "df = pd.read_sql_query(\"select * from consolidated_search_ds;\", db)"
   ]
  },
  {
   "cell_type": "code",
   "execution_count": 5,
   "id": "e597476a",
   "metadata": {},
   "outputs": [
    {
     "data": {
      "text/html": [
       "<div>\n",
       "<style scoped>\n",
       "    .dataframe tbody tr th:only-of-type {\n",
       "        vertical-align: middle;\n",
       "    }\n",
       "\n",
       "    .dataframe tbody tr th {\n",
       "        vertical-align: top;\n",
       "    }\n",
       "\n",
       "    .dataframe thead th {\n",
       "        text-align: right;\n",
       "    }\n",
       "</style>\n",
       "<table border=\"1\" class=\"dataframe\">\n",
       "  <thead>\n",
       "    <tr style=\"text-align: right;\">\n",
       "      <th></th>\n",
       "      <th>Job Title</th>\n",
       "      <th>Company</th>\n",
       "      <th>Area</th>\n",
       "      <th>Employer Email</th>\n",
       "      <th>Employer Contact Number</th>\n",
       "      <th>Salary</th>\n",
       "      <th>Lower Salary Range</th>\n",
       "      <th>Upper Salary Range</th>\n",
       "      <th>Job Highlights</th>\n",
       "      <th>Job Description</th>\n",
       "      <th>Career Level</th>\n",
       "      <th>Qualification</th>\n",
       "      <th>Years of Experience</th>\n",
       "      <th>Job Type</th>\n",
       "      <th>Company Website</th>\n",
       "      <th>Job Link</th>\n",
       "      <th>Job Functions</th>\n",
       "      <th>Industry</th>\n",
       "      <th>Search Term</th>\n",
       "      <th>Date Posted</th>\n",
       "      <th>Date Scraped</th>\n",
       "      <th>Data Source</th>\n",
       "      <th>jobtick_avgsalary</th>\n",
       "      <th>jobtick_SQL</th>\n",
       "      <th>jobtick_Excel</th>\n",
       "      <th>jobtick_dashboard</th>\n",
       "      <th>jobtick_Python</th>\n",
       "      <th>jobtick_engineerjobs</th>\n",
       "      <th>jobtick_analystjobs</th>\n",
       "      <th>jobtick_scientistjobs</th>\n",
       "    </tr>\n",
       "  </thead>\n",
       "  <tbody>\n",
       "    <tr>\n",
       "      <th>0</th>\n",
       "      <td>Business Analyst (Data Analysis)</td>\n",
       "      <td>EC Healthcare</td>\n",
       "      <td>Not Specified</td>\n",
       "      <td>None</td>\n",
       "      <td>None</td>\n",
       "      <td>Not Specified</td>\n",
       "      <td>NaN</td>\n",
       "      <td>NaN</td>\n",
       "      <td>['Develop and built segmentation platform', 'C...</td>\n",
       "      <td>['Job Descriptions:', 'Develop strategic KPIs ...</td>\n",
       "      <td>Entry</td>\n",
       "      <td>Not Specified</td>\n",
       "      <td>-1.0</td>\n",
       "      <td>Full Time, Permanent</td>\n",
       "      <td>Not Specified</td>\n",
       "      <td>/hk/en/job/business-analyst-data-analysis-1000...</td>\n",
       "      <td>Information Technology (IT), DBA, E-commerce, ...</td>\n",
       "      <td>Health &amp; Beauty Care</td>\n",
       "      <td>Data Scientist</td>\n",
       "      <td>10-22-2021</td>\n",
       "      <td>22-10-2021</td>\n",
       "      <td>JobsDB</td>\n",
       "      <td>NaN</td>\n",
       "      <td>1.0</td>\n",
       "      <td>1.0</td>\n",
       "      <td>1.0</td>\n",
       "      <td>1.0</td>\n",
       "      <td>NaN</td>\n",
       "      <td>1.0</td>\n",
       "      <td>NaN</td>\n",
       "    </tr>\n",
       "    <tr>\n",
       "      <th>1</th>\n",
       "      <td>Data Analyst Leader</td>\n",
       "      <td>A4lution Limited</td>\n",
       "      <td>Not Specified</td>\n",
       "      <td>None</td>\n",
       "      <td>['3955 8549']</td>\n",
       "      <td>Not Specified</td>\n",
       "      <td>NaN</td>\n",
       "      <td>NaN</td>\n",
       "      <td>['Drive automation of analytical projects', 'I...</td>\n",
       "      <td>['Responsibilities:', 'Work closely with senio...</td>\n",
       "      <td>Senior</td>\n",
       "      <td>Degree</td>\n",
       "      <td>3.0</td>\n",
       "      <td>Full Time</td>\n",
       "      <td>Not Specified</td>\n",
       "      <td>/hk/en/job/data-analyst-leader-100003008838120</td>\n",
       "      <td>Information Technology (IT), Data Scientist</td>\n",
       "      <td>Others</td>\n",
       "      <td>Data Scientist</td>\n",
       "      <td>10-22-2021</td>\n",
       "      <td>22-10-2021</td>\n",
       "      <td>JobsDB</td>\n",
       "      <td>NaN</td>\n",
       "      <td>1.0</td>\n",
       "      <td>1.0</td>\n",
       "      <td>1.0</td>\n",
       "      <td>1.0</td>\n",
       "      <td>NaN</td>\n",
       "      <td>1.0</td>\n",
       "      <td>NaN</td>\n",
       "    </tr>\n",
       "    <tr>\n",
       "      <th>2</th>\n",
       "      <td>Data Analyst – Campaign Specialist</td>\n",
       "      <td>now TV</td>\n",
       "      <td>Not Specified</td>\n",
       "      <td>None</td>\n",
       "      <td>['2827 8322']</td>\n",
       "      <td>Not Specified</td>\n",
       "      <td>NaN</td>\n",
       "      <td>NaN</td>\n",
       "      <td>['Interpret &amp; analyze data for campaign evalua...</td>\n",
       "      <td>['The Job:', 'Hands on experience in conductin...</td>\n",
       "      <td>Entry</td>\n",
       "      <td>Degree</td>\n",
       "      <td>1.0</td>\n",
       "      <td>Full Time</td>\n",
       "      <td>http://www.pccw.com</td>\n",
       "      <td>/hk/en/job/data-analyst-campaign-specialist-10...</td>\n",
       "      <td>Marketing / Public Relations, Others, Informat...</td>\n",
       "      <td>Telecommunication</td>\n",
       "      <td>Data Scientist</td>\n",
       "      <td>10-22-2021</td>\n",
       "      <td>22-10-2021</td>\n",
       "      <td>JobsDB</td>\n",
       "      <td>NaN</td>\n",
       "      <td>1.0</td>\n",
       "      <td>1.0</td>\n",
       "      <td>NaN</td>\n",
       "      <td>NaN</td>\n",
       "      <td>NaN</td>\n",
       "      <td>1.0</td>\n",
       "      <td>NaN</td>\n",
       "    </tr>\n",
       "    <tr>\n",
       "      <th>3</th>\n",
       "      <td>Consultant / Senior Consultant - Data Scientis...</td>\n",
       "      <td>Deloitte Global Services Limited</td>\n",
       "      <td>Not Specified</td>\n",
       "      <td>None</td>\n",
       "      <td>None</td>\n",
       "      <td>Not Specified</td>\n",
       "      <td>NaN</td>\n",
       "      <td>NaN</td>\n",
       "      <td>['data scientist', 'digital', 'tableau']</td>\n",
       "      <td>['About Technology', 'Deloitte Digital is a bo...</td>\n",
       "      <td>Entry</td>\n",
       "      <td>Degree</td>\n",
       "      <td>2.0</td>\n",
       "      <td>Full Time</td>\n",
       "      <td>http://www.deloitte.com</td>\n",
       "      <td>/hk/en/job/consultant-senior-consultant-data-s...</td>\n",
       "      <td>Professional Services, Business Analysis / Dat...</td>\n",
       "      <td>Accounting/Audit/Tax Services</td>\n",
       "      <td>Data Scientist</td>\n",
       "      <td>10-21-2021</td>\n",
       "      <td>22-10-2021</td>\n",
       "      <td>JobsDB</td>\n",
       "      <td>NaN</td>\n",
       "      <td>1.0</td>\n",
       "      <td>NaN</td>\n",
       "      <td>1.0</td>\n",
       "      <td>1.0</td>\n",
       "      <td>NaN</td>\n",
       "      <td>NaN</td>\n",
       "      <td>1.0</td>\n",
       "    </tr>\n",
       "    <tr>\n",
       "      <th>4</th>\n",
       "      <td>Business Intelligence Assistant / Data Analyst...</td>\n",
       "      <td>Lloyd Karson International Limited</td>\n",
       "      <td>Not Specified</td>\n",
       "      <td>None</td>\n",
       "      <td>None</td>\n",
       "      <td>HK$17K - 25K /month</td>\n",
       "      <td>17.0</td>\n",
       "      <td>25.0</td>\n",
       "      <td>['Experience with Python', 'Good Data Analytic...</td>\n",
       "      <td>['The client is a global prestigious MNC Insur...</td>\n",
       "      <td>Entry</td>\n",
       "      <td>Degree</td>\n",
       "      <td>1.0</td>\n",
       "      <td>Full Time, Permanent</td>\n",
       "      <td>Not Specified</td>\n",
       "      <td>/hk/en/job/business-intelligence-assistant-dat...</td>\n",
       "      <td>Professional Services, Business Analysis / Dat...</td>\n",
       "      <td>Human Resources Management/Consultancy</td>\n",
       "      <td>Data Scientist</td>\n",
       "      <td>10-22-2021</td>\n",
       "      <td>22-10-2021</td>\n",
       "      <td>JobsDB</td>\n",
       "      <td>21.0</td>\n",
       "      <td>1.0</td>\n",
       "      <td>NaN</td>\n",
       "      <td>1.0</td>\n",
       "      <td>1.0</td>\n",
       "      <td>NaN</td>\n",
       "      <td>1.0</td>\n",
       "      <td>NaN</td>\n",
       "    </tr>\n",
       "    <tr>\n",
       "      <th>...</th>\n",
       "      <td>...</td>\n",
       "      <td>...</td>\n",
       "      <td>...</td>\n",
       "      <td>...</td>\n",
       "      <td>...</td>\n",
       "      <td>...</td>\n",
       "      <td>...</td>\n",
       "      <td>...</td>\n",
       "      <td>...</td>\n",
       "      <td>...</td>\n",
       "      <td>...</td>\n",
       "      <td>...</td>\n",
       "      <td>...</td>\n",
       "      <td>...</td>\n",
       "      <td>...</td>\n",
       "      <td>...</td>\n",
       "      <td>...</td>\n",
       "      <td>...</td>\n",
       "      <td>...</td>\n",
       "      <td>...</td>\n",
       "      <td>...</td>\n",
       "      <td>...</td>\n",
       "      <td>...</td>\n",
       "      <td>...</td>\n",
       "      <td>...</td>\n",
       "      <td>...</td>\n",
       "      <td>...</td>\n",
       "      <td>...</td>\n",
       "      <td>...</td>\n",
       "      <td>...</td>\n",
       "    </tr>\n",
       "    <tr>\n",
       "      <th>3206</th>\n",
       "      <td>Senior Application Reliability Engineer</td>\n",
       "      <td>Manulife (International) Limited</td>\n",
       "      <td>-</td>\n",
       "      <td>None</td>\n",
       "      <td>None</td>\n",
       "      <td>Not Specified</td>\n",
       "      <td>NaN</td>\n",
       "      <td>NaN</td>\n",
       "      <td>Not Specified</td>\n",
       "      <td>Not Specified</td>\n",
       "      <td>Senior</td>\n",
       "      <td>Not Specified</td>\n",
       "      <td>7.5</td>\n",
       "      <td>Not Specified</td>\n",
       "      <td>Not Specified</td>\n",
       "      <td>https://www.ctgoodjobs.hk/job/senior-applicati...</td>\n",
       "      <td>Not Specified</td>\n",
       "      <td>Not Specified</td>\n",
       "      <td>Business Intelligence</td>\n",
       "      <td>09-28-2021</td>\n",
       "      <td>22-10-2021</td>\n",
       "      <td>CTGoodJobs</td>\n",
       "      <td>NaN</td>\n",
       "      <td>NaN</td>\n",
       "      <td>NaN</td>\n",
       "      <td>NaN</td>\n",
       "      <td>NaN</td>\n",
       "      <td>1.0</td>\n",
       "      <td>NaN</td>\n",
       "      <td>NaN</td>\n",
       "    </tr>\n",
       "    <tr>\n",
       "      <th>3207</th>\n",
       "      <td>Application Developer</td>\n",
       "      <td>PCCW Solutions Limited</td>\n",
       "      <td>Admiralty</td>\n",
       "      <td>None</td>\n",
       "      <td>None</td>\n",
       "      <td>Not Specified</td>\n",
       "      <td>NaN</td>\n",
       "      <td>NaN</td>\n",
       "      <td>Not Specified</td>\n",
       "      <td>Not Specified</td>\n",
       "      <td>Entry</td>\n",
       "      <td>Not Specified</td>\n",
       "      <td>1.5</td>\n",
       "      <td>Not Specified</td>\n",
       "      <td>Not Specified</td>\n",
       "      <td>https://www.ctgoodjobs.hk/job/solution-develop...</td>\n",
       "      <td>Not Specified</td>\n",
       "      <td>Not Specified</td>\n",
       "      <td>Business Intelligence</td>\n",
       "      <td>09-28-2021</td>\n",
       "      <td>22-10-2021</td>\n",
       "      <td>CTGoodJobs</td>\n",
       "      <td>NaN</td>\n",
       "      <td>NaN</td>\n",
       "      <td>NaN</td>\n",
       "      <td>NaN</td>\n",
       "      <td>NaN</td>\n",
       "      <td>NaN</td>\n",
       "      <td>NaN</td>\n",
       "      <td>NaN</td>\n",
       "    </tr>\n",
       "    <tr>\n",
       "      <th>3208</th>\n",
       "      <td>Senior Solution Analyst - Application developm...</td>\n",
       "      <td>PCCW Solutions Limited</td>\n",
       "      <td>Tai Kok Tsui</td>\n",
       "      <td>None</td>\n",
       "      <td>None</td>\n",
       "      <td>Not Specified</td>\n",
       "      <td>NaN</td>\n",
       "      <td>NaN</td>\n",
       "      <td>Not Specified</td>\n",
       "      <td>Not Specified</td>\n",
       "      <td>Middle</td>\n",
       "      <td>Not Specified</td>\n",
       "      <td>6.0</td>\n",
       "      <td>Not Specified</td>\n",
       "      <td>Not Specified</td>\n",
       "      <td>https://www.ctgoodjobs.hk/job/senior-solution-...</td>\n",
       "      <td>Not Specified</td>\n",
       "      <td>Not Specified</td>\n",
       "      <td>Business Intelligence</td>\n",
       "      <td>09-28-2021</td>\n",
       "      <td>22-10-2021</td>\n",
       "      <td>CTGoodJobs</td>\n",
       "      <td>NaN</td>\n",
       "      <td>NaN</td>\n",
       "      <td>NaN</td>\n",
       "      <td>NaN</td>\n",
       "      <td>NaN</td>\n",
       "      <td>NaN</td>\n",
       "      <td>1.0</td>\n",
       "      <td>NaN</td>\n",
       "    </tr>\n",
       "    <tr>\n",
       "      <th>3209</th>\n",
       "      <td>IT Project Manager</td>\n",
       "      <td>Top Form International Limited</td>\n",
       "      <td>Wong Tai Sin</td>\n",
       "      <td>None</td>\n",
       "      <td>None</td>\n",
       "      <td>Not Specified</td>\n",
       "      <td>NaN</td>\n",
       "      <td>NaN</td>\n",
       "      <td>Not Specified</td>\n",
       "      <td>Not Specified</td>\n",
       "      <td>Senior</td>\n",
       "      <td>Not Specified</td>\n",
       "      <td>5.0</td>\n",
       "      <td>Not Specified</td>\n",
       "      <td>Not Specified</td>\n",
       "      <td>https://www.ctgoodjobs.hk/job/it-project-manag...</td>\n",
       "      <td>Not Specified</td>\n",
       "      <td>Not Specified</td>\n",
       "      <td>Business Intelligence</td>\n",
       "      <td>09-28-2021</td>\n",
       "      <td>22-10-2021</td>\n",
       "      <td>CTGoodJobs</td>\n",
       "      <td>NaN</td>\n",
       "      <td>NaN</td>\n",
       "      <td>NaN</td>\n",
       "      <td>NaN</td>\n",
       "      <td>NaN</td>\n",
       "      <td>NaN</td>\n",
       "      <td>NaN</td>\n",
       "      <td>NaN</td>\n",
       "    </tr>\n",
       "    <tr>\n",
       "      <th>3210</th>\n",
       "      <td>Project Management Officer</td>\n",
       "      <td>BitMEX</td>\n",
       "      <td>-</td>\n",
       "      <td>None</td>\n",
       "      <td>None</td>\n",
       "      <td>Not Specified</td>\n",
       "      <td>NaN</td>\n",
       "      <td>NaN</td>\n",
       "      <td>Not Specified</td>\n",
       "      <td>Not Specified</td>\n",
       "      <td>Entry</td>\n",
       "      <td>Not Specified</td>\n",
       "      <td>2.5</td>\n",
       "      <td>Not Specified</td>\n",
       "      <td>Not Specified</td>\n",
       "      <td>https://www.ctgoodjobs.hk/job/project-manageme...</td>\n",
       "      <td>Not Specified</td>\n",
       "      <td>Not Specified</td>\n",
       "      <td>Business Intelligence</td>\n",
       "      <td>09-27-2021</td>\n",
       "      <td>22-10-2021</td>\n",
       "      <td>CTGoodJobs</td>\n",
       "      <td>NaN</td>\n",
       "      <td>NaN</td>\n",
       "      <td>NaN</td>\n",
       "      <td>NaN</td>\n",
       "      <td>NaN</td>\n",
       "      <td>NaN</td>\n",
       "      <td>NaN</td>\n",
       "      <td>NaN</td>\n",
       "    </tr>\n",
       "  </tbody>\n",
       "</table>\n",
       "<p>3211 rows × 30 columns</p>\n",
       "</div>"
      ],
      "text/plain": [
       "                                              Job Title  \\\n",
       "0                      Business Analyst (Data Analysis)   \n",
       "1                                   Data Analyst Leader   \n",
       "2                    Data Analyst – Campaign Specialist   \n",
       "3     Consultant / Senior Consultant - Data Scientis...   \n",
       "4     Business Intelligence Assistant / Data Analyst...   \n",
       "...                                                 ...   \n",
       "3206            Senior Application Reliability Engineer   \n",
       "3207                              Application Developer   \n",
       "3208  Senior Solution Analyst - Application developm...   \n",
       "3209                                 IT Project Manager   \n",
       "3210                         Project Management Officer   \n",
       "\n",
       "                                 Company           Area Employer Email  \\\n",
       "0                          EC Healthcare  Not Specified           None   \n",
       "1                       A4lution Limited  Not Specified           None   \n",
       "2                                 now TV  Not Specified           None   \n",
       "3       Deloitte Global Services Limited  Not Specified           None   \n",
       "4     Lloyd Karson International Limited  Not Specified           None   \n",
       "...                                  ...            ...            ...   \n",
       "3206    Manulife (International) Limited              -           None   \n",
       "3207              PCCW Solutions Limited      Admiralty           None   \n",
       "3208              PCCW Solutions Limited   Tai Kok Tsui           None   \n",
       "3209      Top Form International Limited   Wong Tai Sin           None   \n",
       "3210                              BitMEX              -           None   \n",
       "\n",
       "     Employer Contact Number                Salary  Lower Salary Range  \\\n",
       "0                       None         Not Specified                 NaN   \n",
       "1              ['3955 8549']         Not Specified                 NaN   \n",
       "2              ['2827 8322']         Not Specified                 NaN   \n",
       "3                       None         Not Specified                 NaN   \n",
       "4                       None  HK$17K - 25K /month                 17.0   \n",
       "...                      ...                   ...                 ...   \n",
       "3206                    None         Not Specified                 NaN   \n",
       "3207                    None         Not Specified                 NaN   \n",
       "3208                    None         Not Specified                 NaN   \n",
       "3209                    None         Not Specified                 NaN   \n",
       "3210                    None         Not Specified                 NaN   \n",
       "\n",
       "      Upper Salary Range                                     Job Highlights  \\\n",
       "0                    NaN  ['Develop and built segmentation platform', 'C...   \n",
       "1                    NaN  ['Drive automation of analytical projects', 'I...   \n",
       "2                    NaN  ['Interpret & analyze data for campaign evalua...   \n",
       "3                    NaN           ['data scientist', 'digital', 'tableau']   \n",
       "4                   25.0  ['Experience with Python', 'Good Data Analytic...   \n",
       "...                  ...                                                ...   \n",
       "3206                 NaN                                      Not Specified   \n",
       "3207                 NaN                                      Not Specified   \n",
       "3208                 NaN                                      Not Specified   \n",
       "3209                 NaN                                      Not Specified   \n",
       "3210                 NaN                                      Not Specified   \n",
       "\n",
       "                                        Job Description Career Level  \\\n",
       "0     ['Job Descriptions:', 'Develop strategic KPIs ...        Entry   \n",
       "1     ['Responsibilities:', 'Work closely with senio...       Senior   \n",
       "2     ['The Job:', 'Hands on experience in conductin...        Entry   \n",
       "3     ['About Technology', 'Deloitte Digital is a bo...        Entry   \n",
       "4     ['The client is a global prestigious MNC Insur...        Entry   \n",
       "...                                                 ...          ...   \n",
       "3206                                      Not Specified       Senior   \n",
       "3207                                      Not Specified        Entry   \n",
       "3208                                      Not Specified       Middle   \n",
       "3209                                      Not Specified       Senior   \n",
       "3210                                      Not Specified        Entry   \n",
       "\n",
       "      Qualification  Years of Experience              Job Type  \\\n",
       "0     Not Specified                 -1.0  Full Time, Permanent   \n",
       "1            Degree                  3.0             Full Time   \n",
       "2            Degree                  1.0             Full Time   \n",
       "3            Degree                  2.0             Full Time   \n",
       "4            Degree                  1.0  Full Time, Permanent   \n",
       "...             ...                  ...                   ...   \n",
       "3206  Not Specified                  7.5         Not Specified   \n",
       "3207  Not Specified                  1.5         Not Specified   \n",
       "3208  Not Specified                  6.0         Not Specified   \n",
       "3209  Not Specified                  5.0         Not Specified   \n",
       "3210  Not Specified                  2.5         Not Specified   \n",
       "\n",
       "              Company Website  \\\n",
       "0               Not Specified   \n",
       "1               Not Specified   \n",
       "2         http://www.pccw.com   \n",
       "3     http://www.deloitte.com   \n",
       "4               Not Specified   \n",
       "...                       ...   \n",
       "3206            Not Specified   \n",
       "3207            Not Specified   \n",
       "3208            Not Specified   \n",
       "3209            Not Specified   \n",
       "3210            Not Specified   \n",
       "\n",
       "                                               Job Link  \\\n",
       "0     /hk/en/job/business-analyst-data-analysis-1000...   \n",
       "1        /hk/en/job/data-analyst-leader-100003008838120   \n",
       "2     /hk/en/job/data-analyst-campaign-specialist-10...   \n",
       "3     /hk/en/job/consultant-senior-consultant-data-s...   \n",
       "4     /hk/en/job/business-intelligence-assistant-dat...   \n",
       "...                                                 ...   \n",
       "3206  https://www.ctgoodjobs.hk/job/senior-applicati...   \n",
       "3207  https://www.ctgoodjobs.hk/job/solution-develop...   \n",
       "3208  https://www.ctgoodjobs.hk/job/senior-solution-...   \n",
       "3209  https://www.ctgoodjobs.hk/job/it-project-manag...   \n",
       "3210  https://www.ctgoodjobs.hk/job/project-manageme...   \n",
       "\n",
       "                                          Job Functions  \\\n",
       "0     Information Technology (IT), DBA, E-commerce, ...   \n",
       "1           Information Technology (IT), Data Scientist   \n",
       "2     Marketing / Public Relations, Others, Informat...   \n",
       "3     Professional Services, Business Analysis / Dat...   \n",
       "4     Professional Services, Business Analysis / Dat...   \n",
       "...                                                 ...   \n",
       "3206                                      Not Specified   \n",
       "3207                                      Not Specified   \n",
       "3208                                      Not Specified   \n",
       "3209                                      Not Specified   \n",
       "3210                                      Not Specified   \n",
       "\n",
       "                                    Industry            Search Term  \\\n",
       "0                       Health & Beauty Care         Data Scientist   \n",
       "1                                     Others         Data Scientist   \n",
       "2                          Telecommunication         Data Scientist   \n",
       "3              Accounting/Audit/Tax Services         Data Scientist   \n",
       "4     Human Resources Management/Consultancy         Data Scientist   \n",
       "...                                      ...                    ...   \n",
       "3206                           Not Specified  Business Intelligence   \n",
       "3207                           Not Specified  Business Intelligence   \n",
       "3208                           Not Specified  Business Intelligence   \n",
       "3209                           Not Specified  Business Intelligence   \n",
       "3210                           Not Specified  Business Intelligence   \n",
       "\n",
       "     Date Posted Date Scraped Data Source  jobtick_avgsalary  jobtick_SQL  \\\n",
       "0     10-22-2021   22-10-2021      JobsDB                NaN          1.0   \n",
       "1     10-22-2021   22-10-2021      JobsDB                NaN          1.0   \n",
       "2     10-22-2021   22-10-2021      JobsDB                NaN          1.0   \n",
       "3     10-21-2021   22-10-2021      JobsDB                NaN          1.0   \n",
       "4     10-22-2021   22-10-2021      JobsDB               21.0          1.0   \n",
       "...          ...          ...         ...                ...          ...   \n",
       "3206  09-28-2021   22-10-2021  CTGoodJobs                NaN          NaN   \n",
       "3207  09-28-2021   22-10-2021  CTGoodJobs                NaN          NaN   \n",
       "3208  09-28-2021   22-10-2021  CTGoodJobs                NaN          NaN   \n",
       "3209  09-28-2021   22-10-2021  CTGoodJobs                NaN          NaN   \n",
       "3210  09-27-2021   22-10-2021  CTGoodJobs                NaN          NaN   \n",
       "\n",
       "      jobtick_Excel  jobtick_dashboard  jobtick_Python  jobtick_engineerjobs  \\\n",
       "0               1.0                1.0             1.0                   NaN   \n",
       "1               1.0                1.0             1.0                   NaN   \n",
       "2               1.0                NaN             NaN                   NaN   \n",
       "3               NaN                1.0             1.0                   NaN   \n",
       "4               NaN                1.0             1.0                   NaN   \n",
       "...             ...                ...             ...                   ...   \n",
       "3206            NaN                NaN             NaN                   1.0   \n",
       "3207            NaN                NaN             NaN                   NaN   \n",
       "3208            NaN                NaN             NaN                   NaN   \n",
       "3209            NaN                NaN             NaN                   NaN   \n",
       "3210            NaN                NaN             NaN                   NaN   \n",
       "\n",
       "      jobtick_analystjobs  jobtick_scientistjobs  \n",
       "0                     1.0                    NaN  \n",
       "1                     1.0                    NaN  \n",
       "2                     1.0                    NaN  \n",
       "3                     NaN                    1.0  \n",
       "4                     1.0                    NaN  \n",
       "...                   ...                    ...  \n",
       "3206                  NaN                    NaN  \n",
       "3207                  NaN                    NaN  \n",
       "3208                  1.0                    NaN  \n",
       "3209                  NaN                    NaN  \n",
       "3210                  NaN                    NaN  \n",
       "\n",
       "[3211 rows x 30 columns]"
      ]
     },
     "execution_count": 5,
     "metadata": {},
     "output_type": "execute_result"
    }
   ],
   "source": [
    "df"
   ]
  },
  {
   "cell_type": "code",
   "execution_count": 6,
   "id": "f70ce9cf",
   "metadata": {},
   "outputs": [
    {
     "data": {
      "text/plain": [
       "(3211, 30)"
      ]
     },
     "execution_count": 6,
     "metadata": {},
     "output_type": "execute_result"
    }
   ],
   "source": [
    "# Finding the number of columns and rows of the dataframe \n",
    "df.shape"
   ]
  },
  {
   "cell_type": "code",
   "execution_count": 7,
   "id": "23b271b9",
   "metadata": {},
   "outputs": [
    {
     "name": "stdout",
     "output_type": "stream",
     "text": [
      "<class 'pandas.core.frame.DataFrame'>\n",
      "RangeIndex: 3211 entries, 0 to 3210\n",
      "Data columns (total 30 columns):\n",
      " #   Column                   Non-Null Count  Dtype  \n",
      "---  ------                   --------------  -----  \n",
      " 0   Job Title                3211 non-null   object \n",
      " 1   Company                  3211 non-null   object \n",
      " 2   Area                     3211 non-null   object \n",
      " 3   Employer Email           167 non-null    object \n",
      " 4   Employer Contact Number  358 non-null    object \n",
      " 5   Salary                   3211 non-null   object \n",
      " 6   Lower Salary Range       318 non-null    float64\n",
      " 7   Upper Salary Range       318 non-null    float64\n",
      " 8   Job Highlights           3211 non-null   object \n",
      " 9   Job Description          3211 non-null   object \n",
      " 10  Career Level             3211 non-null   object \n",
      " 11  Qualification            3211 non-null   object \n",
      " 12  Years of Experience      3211 non-null   float64\n",
      " 13  Job Type                 3211 non-null   object \n",
      " 14  Company Website          3211 non-null   object \n",
      " 15  Job Link                 3211 non-null   object \n",
      " 16  Job Functions            3211 non-null   object \n",
      " 17  Industry                 3211 non-null   object \n",
      " 18  Search Term              3211 non-null   object \n",
      " 19  Date Posted              3211 non-null   object \n",
      " 20  Date Scraped             3211 non-null   object \n",
      " 21  Data Source              3211 non-null   object \n",
      " 22  jobtick_avgsalary        318 non-null    float64\n",
      " 23  jobtick_SQL              1050 non-null   float64\n",
      " 24  jobtick_Excel            1167 non-null   float64\n",
      " 25  jobtick_dashboard        293 non-null    float64\n",
      " 26  jobtick_Python           595 non-null    float64\n",
      " 27  jobtick_engineerjobs     550 non-null    float64\n",
      " 28  jobtick_analystjobs      1174 non-null   float64\n",
      " 29  jobtick_scientistjobs    80 non-null     float64\n",
      "dtypes: float64(11), object(19)\n",
      "memory usage: 752.7+ KB\n"
     ]
    }
   ],
   "source": [
    "df.info()"
   ]
  },
  {
   "cell_type": "code",
   "execution_count": 8,
   "id": "3b0273b0",
   "metadata": {},
   "outputs": [
    {
     "data": {
      "text/html": [
       "<div>\n",
       "<style scoped>\n",
       "    .dataframe tbody tr th:only-of-type {\n",
       "        vertical-align: middle;\n",
       "    }\n",
       "\n",
       "    .dataframe tbody tr th {\n",
       "        vertical-align: top;\n",
       "    }\n",
       "\n",
       "    .dataframe thead th {\n",
       "        text-align: right;\n",
       "    }\n",
       "</style>\n",
       "<table border=\"1\" class=\"dataframe\">\n",
       "  <thead>\n",
       "    <tr style=\"text-align: right;\">\n",
       "      <th></th>\n",
       "      <th>Lower Salary Range</th>\n",
       "      <th>Upper Salary Range</th>\n",
       "      <th>Years of Experience</th>\n",
       "      <th>jobtick_avgsalary</th>\n",
       "      <th>jobtick_SQL</th>\n",
       "      <th>jobtick_Excel</th>\n",
       "      <th>jobtick_dashboard</th>\n",
       "      <th>jobtick_Python</th>\n",
       "      <th>jobtick_engineerjobs</th>\n",
       "      <th>jobtick_analystjobs</th>\n",
       "      <th>jobtick_scientistjobs</th>\n",
       "    </tr>\n",
       "  </thead>\n",
       "  <tbody>\n",
       "    <tr>\n",
       "      <th>count</th>\n",
       "      <td>318.000000</td>\n",
       "      <td>318.000000</td>\n",
       "      <td>3211.000000</td>\n",
       "      <td>318.000000</td>\n",
       "      <td>1050.0</td>\n",
       "      <td>1167.0</td>\n",
       "      <td>293.0</td>\n",
       "      <td>595.0</td>\n",
       "      <td>550.0</td>\n",
       "      <td>1174.0</td>\n",
       "      <td>80.0</td>\n",
       "    </tr>\n",
       "    <tr>\n",
       "      <th>mean</th>\n",
       "      <td>37.987421</td>\n",
       "      <td>56.849057</td>\n",
       "      <td>2.201495</td>\n",
       "      <td>47.418239</td>\n",
       "      <td>1.0</td>\n",
       "      <td>1.0</td>\n",
       "      <td>1.0</td>\n",
       "      <td>1.0</td>\n",
       "      <td>1.0</td>\n",
       "      <td>1.0</td>\n",
       "      <td>1.0</td>\n",
       "    </tr>\n",
       "    <tr>\n",
       "      <th>std</th>\n",
       "      <td>19.932690</td>\n",
       "      <td>28.811185</td>\n",
       "      <td>3.053961</td>\n",
       "      <td>23.734658</td>\n",
       "      <td>0.0</td>\n",
       "      <td>0.0</td>\n",
       "      <td>0.0</td>\n",
       "      <td>0.0</td>\n",
       "      <td>0.0</td>\n",
       "      <td>0.0</td>\n",
       "      <td>0.0</td>\n",
       "    </tr>\n",
       "    <tr>\n",
       "      <th>min</th>\n",
       "      <td>0.000000</td>\n",
       "      <td>8.000000</td>\n",
       "      <td>-1.000000</td>\n",
       "      <td>4.000000</td>\n",
       "      <td>1.0</td>\n",
       "      <td>1.0</td>\n",
       "      <td>1.0</td>\n",
       "      <td>1.0</td>\n",
       "      <td>1.0</td>\n",
       "      <td>1.0</td>\n",
       "      <td>1.0</td>\n",
       "    </tr>\n",
       "    <tr>\n",
       "      <th>25%</th>\n",
       "      <td>25.000000</td>\n",
       "      <td>35.000000</td>\n",
       "      <td>-1.000000</td>\n",
       "      <td>30.000000</td>\n",
       "      <td>1.0</td>\n",
       "      <td>1.0</td>\n",
       "      <td>1.0</td>\n",
       "      <td>1.0</td>\n",
       "      <td>1.0</td>\n",
       "      <td>1.0</td>\n",
       "      <td>1.0</td>\n",
       "    </tr>\n",
       "    <tr>\n",
       "      <th>50%</th>\n",
       "      <td>35.000000</td>\n",
       "      <td>55.000000</td>\n",
       "      <td>2.000000</td>\n",
       "      <td>41.250000</td>\n",
       "      <td>1.0</td>\n",
       "      <td>1.0</td>\n",
       "      <td>1.0</td>\n",
       "      <td>1.0</td>\n",
       "      <td>1.0</td>\n",
       "      <td>1.0</td>\n",
       "      <td>1.0</td>\n",
       "    </tr>\n",
       "    <tr>\n",
       "      <th>75%</th>\n",
       "      <td>45.000000</td>\n",
       "      <td>70.000000</td>\n",
       "      <td>4.000000</td>\n",
       "      <td>57.500000</td>\n",
       "      <td>1.0</td>\n",
       "      <td>1.0</td>\n",
       "      <td>1.0</td>\n",
       "      <td>1.0</td>\n",
       "      <td>1.0</td>\n",
       "      <td>1.0</td>\n",
       "      <td>1.0</td>\n",
       "    </tr>\n",
       "    <tr>\n",
       "      <th>max</th>\n",
       "      <td>166.000000</td>\n",
       "      <td>166.000000</td>\n",
       "      <td>15.000000</td>\n",
       "      <td>166.000000</td>\n",
       "      <td>1.0</td>\n",
       "      <td>1.0</td>\n",
       "      <td>1.0</td>\n",
       "      <td>1.0</td>\n",
       "      <td>1.0</td>\n",
       "      <td>1.0</td>\n",
       "      <td>1.0</td>\n",
       "    </tr>\n",
       "  </tbody>\n",
       "</table>\n",
       "</div>"
      ],
      "text/plain": [
       "       Lower Salary Range  Upper Salary Range  Years of Experience  \\\n",
       "count          318.000000          318.000000          3211.000000   \n",
       "mean            37.987421           56.849057             2.201495   \n",
       "std             19.932690           28.811185             3.053961   \n",
       "min              0.000000            8.000000            -1.000000   \n",
       "25%             25.000000           35.000000            -1.000000   \n",
       "50%             35.000000           55.000000             2.000000   \n",
       "75%             45.000000           70.000000             4.000000   \n",
       "max            166.000000          166.000000            15.000000   \n",
       "\n",
       "       jobtick_avgsalary  jobtick_SQL  jobtick_Excel  jobtick_dashboard  \\\n",
       "count         318.000000       1050.0         1167.0              293.0   \n",
       "mean           47.418239          1.0            1.0                1.0   \n",
       "std            23.734658          0.0            0.0                0.0   \n",
       "min             4.000000          1.0            1.0                1.0   \n",
       "25%            30.000000          1.0            1.0                1.0   \n",
       "50%            41.250000          1.0            1.0                1.0   \n",
       "75%            57.500000          1.0            1.0                1.0   \n",
       "max           166.000000          1.0            1.0                1.0   \n",
       "\n",
       "       jobtick_Python  jobtick_engineerjobs  jobtick_analystjobs  \\\n",
       "count           595.0                 550.0               1174.0   \n",
       "mean              1.0                   1.0                  1.0   \n",
       "std               0.0                   0.0                  0.0   \n",
       "min               1.0                   1.0                  1.0   \n",
       "25%               1.0                   1.0                  1.0   \n",
       "50%               1.0                   1.0                  1.0   \n",
       "75%               1.0                   1.0                  1.0   \n",
       "max               1.0                   1.0                  1.0   \n",
       "\n",
       "       jobtick_scientistjobs  \n",
       "count                   80.0  \n",
       "mean                     1.0  \n",
       "std                      0.0  \n",
       "min                      1.0  \n",
       "25%                      1.0  \n",
       "50%                      1.0  \n",
       "75%                      1.0  \n",
       "max                      1.0  "
      ]
     },
     "execution_count": 8,
     "metadata": {},
     "output_type": "execute_result"
    }
   ],
   "source": [
    "df.describe()"
   ]
  },
  {
   "cell_type": "code",
   "execution_count": 9,
   "id": "09a267cf",
   "metadata": {},
   "outputs": [
    {
     "data": {
      "text/plain": [
       "Index(['Job Title', 'Company', 'Area', 'Employer Email',\n",
       "       'Employer Contact Number', 'Salary', 'Lower Salary Range',\n",
       "       'Upper Salary Range', 'Job Highlights', 'Job Description',\n",
       "       'Career Level', 'Qualification', 'Years of Experience', 'Job Type',\n",
       "       'Company Website', 'Job Link', 'Job Functions', 'Industry',\n",
       "       'Search Term', 'Date Posted', 'Date Scraped', 'Data Source',\n",
       "       'jobtick_avgsalary', 'jobtick_SQL', 'jobtick_Excel',\n",
       "       'jobtick_dashboard', 'jobtick_Python', 'jobtick_engineerjobs',\n",
       "       'jobtick_analystjobs', 'jobtick_scientistjobs'],\n",
       "      dtype='object')"
      ]
     },
     "execution_count": 9,
     "metadata": {},
     "output_type": "execute_result"
    }
   ],
   "source": [
    "# Finding the names of the 30 columns\n",
    "df.columns"
   ]
  },
  {
   "cell_type": "code",
   "execution_count": 10,
   "id": "7d5fdeab",
   "metadata": {},
   "outputs": [
    {
     "data": {
      "text/plain": [
       "Job Title                     0\n",
       "Company                       0\n",
       "Area                          0\n",
       "Employer Email             3044\n",
       "Employer Contact Number    2853\n",
       "Salary                        0\n",
       "Lower Salary Range         2893\n",
       "Upper Salary Range         2893\n",
       "Job Highlights                0\n",
       "Job Description               0\n",
       "Career Level                  0\n",
       "Qualification                 0\n",
       "Years of Experience           0\n",
       "Job Type                      0\n",
       "Company Website               0\n",
       "Job Link                      0\n",
       "Job Functions                 0\n",
       "Industry                      0\n",
       "Search Term                   0\n",
       "Date Posted                   0\n",
       "Date Scraped                  0\n",
       "Data Source                   0\n",
       "jobtick_avgsalary          2893\n",
       "jobtick_SQL                2161\n",
       "jobtick_Excel              2044\n",
       "jobtick_dashboard          2918\n",
       "jobtick_Python             2616\n",
       "jobtick_engineerjobs       2661\n",
       "jobtick_analystjobs        2037\n",
       "jobtick_scientistjobs      3131\n",
       "dtype: int64"
      ]
     },
     "execution_count": 10,
     "metadata": {},
     "output_type": "execute_result"
    }
   ],
   "source": [
    "# Finding columns with null values\n",
    "df.isnull().sum()"
   ]
  },
  {
   "cell_type": "code",
   "execution_count": 11,
   "id": "6c0017d1",
   "metadata": {},
   "outputs": [
    {
     "data": {
      "text/plain": [
       "30"
      ]
     },
     "execution_count": 11,
     "metadata": {},
     "output_type": "execute_result"
    }
   ],
   "source": [
    "# Checking number of columns\n",
    "df.columns.nunique()"
   ]
  },
  {
   "cell_type": "code",
   "execution_count": 12,
   "id": "f46c4433",
   "metadata": {},
   "outputs": [
    {
     "data": {
      "text/plain": [
       "Index(['Job Title', 'Company', 'Area', 'Employer Email',\n",
       "       'Employer Contact Number', 'Salary', 'Lower Salary Range',\n",
       "       'Upper Salary Range', 'Job Highlights', 'Job Description',\n",
       "       'Career Level', 'Qualification', 'Years of Experience', 'Job Type',\n",
       "       'Company Website', 'Job Link', 'Job Functions', 'Industry',\n",
       "       'Search Term', 'Date Posted', 'Date Scraped', 'Data Source',\n",
       "       'jobtick_avgsalary', 'jobtick_SQL', 'jobtick_Excel',\n",
       "       'jobtick_dashboard', 'jobtick_Python', 'jobtick_engineerjobs',\n",
       "       'jobtick_analystjobs', 'jobtick_scientistjobs'],\n",
       "      dtype='object')"
      ]
     },
     "execution_count": 12,
     "metadata": {},
     "output_type": "execute_result"
    }
   ],
   "source": [
    "# Checking the columns by their names \n",
    "df.columns\n",
    "#  df.columns.value_counts "
   ]
  },
  {
   "cell_type": "code",
   "execution_count": 13,
   "id": "6510e3eb",
   "metadata": {},
   "outputs": [
    {
     "data": {
      "text/plain": [
       "0       False\n",
       "1       False\n",
       "2       False\n",
       "3       False\n",
       "4       False\n",
       "        ...  \n",
       "3206    False\n",
       "3207    False\n",
       "3208    False\n",
       "3209    False\n",
       "3210    False\n",
       "Length: 3211, dtype: bool"
      ]
     },
     "execution_count": 13,
     "metadata": {},
     "output_type": "execute_result"
    }
   ],
   "source": [
    "# Checking for duplicates\n",
    "df.duplicated()"
   ]
  },
  {
   "cell_type": "code",
   "execution_count": 14,
   "id": "701fc00c",
   "metadata": {},
   "outputs": [
    {
     "data": {
      "text/plain": [
       "0"
      ]
     },
     "execution_count": 14,
     "metadata": {},
     "output_type": "execute_result"
    }
   ],
   "source": [
    "# Checking for total number duplicates \n",
    "df.duplicated().sum()"
   ]
  },
  {
   "cell_type": "code",
   "execution_count": 15,
   "id": "fd188db8",
   "metadata": {},
   "outputs": [
    {
     "data": {
      "text/plain": [
       "1232"
      ]
     },
     "execution_count": 15,
     "metadata": {},
     "output_type": "execute_result"
    }
   ],
   "source": [
    "# Total number of companies\n",
    "df.Company.nunique()"
   ]
  },
  {
   "cell_type": "code",
   "execution_count": 16,
   "id": "d6a41153",
   "metadata": {},
   "outputs": [
    {
     "data": {
      "text/plain": [
       "51"
      ]
     },
     "execution_count": 16,
     "metadata": {},
     "output_type": "execute_result"
    }
   ],
   "source": [
    "# Total number of industries\n",
    "df.Industry.nunique()"
   ]
  },
  {
   "cell_type": "code",
   "execution_count": 17,
   "id": "4ea1de37",
   "metadata": {},
   "outputs": [
    {
     "data": {
      "text/plain": [
       "41"
      ]
     },
     "execution_count": 17,
     "metadata": {},
     "output_type": "execute_result"
    }
   ],
   "source": [
    "# Total number of Job Types\n",
    "df[\"Job Type\"].nunique()"
   ]
  },
  {
   "cell_type": "code",
   "execution_count": 18,
   "id": "fffbc9b2",
   "metadata": {},
   "outputs": [
    {
     "data": {
      "text/plain": [
       "Entry     1328\n",
       "Middle    1000\n",
       "Senior     883\n",
       "Name: Career Level, dtype: int64"
      ]
     },
     "execution_count": 18,
     "metadata": {},
     "output_type": "execute_result"
    }
   ],
   "source": [
    "# Total number of entry, middle, and senior level jobs \n",
    "df['Career Level'].value_counts()"
   ]
  },
  {
   "cell_type": "code",
   "execution_count": 19,
   "id": "20c2d36c",
   "metadata": {},
   "outputs": [
    {
     "data": {
      "text/plain": [
       "Data Scientist               2490\n",
       "Data Analyst                  502\n",
       "Business Intelligence         137\n",
       "Data Engineer                  55\n",
       "Machine Learning Engineer      27\n",
       "Name: Search Term, dtype: int64"
      ]
     },
     "execution_count": 19,
     "metadata": {},
     "output_type": "execute_result"
    }
   ],
   "source": [
    "# Total number of the different job titles searched\n",
    "df['Search Term'].value_counts()"
   ]
  },
  {
   "cell_type": "code",
   "execution_count": 20,
   "id": "1cd517f5",
   "metadata": {},
   "outputs": [
    {
     "data": {
      "text/plain": [
       "<AxesSubplot:>"
      ]
     },
     "execution_count": 20,
     "metadata": {},
     "output_type": "execute_result"
    },
    {
     "data": {
      "image/png": "[encoded data removed]",
      "text/plain": [
       "<Figure size 432x288 with 1 Axes>"
      ]
     },
     "metadata": {
      "needs_background": "light"
     },
     "output_type": "display_data"
    }
   ],
   "source": [
    "# Plotting a bar graph to show the number of jobs based on years of work experience\n",
    "df[\"Years of Experience\"].replace(-1,0).value_counts()[:10].plot.bar()"
   ]
  },
  {
   "cell_type": "code",
   "execution_count": 21,
   "id": "a668b16c",
   "metadata": {},
   "outputs": [
    {
     "data": {
      "text/plain": [
       "<AxesSubplot:>"
      ]
     },
     "execution_count": 21,
     "metadata": {},
     "output_type": "execute_result"
    },
    {
     "data": {
      "image/png": "[encoded data removed]",
      "text/plain": [
       "<Figure size 432x288 with 1 Axes>"
      ]
     },
     "metadata": {
      "needs_background": "light"
     },
     "output_type": "display_data"
    }
   ],
   "source": [
    "# Plotting a bar graph to show the distribution of different search terms used  \n",
    "df[\"Search Term\"].value_counts().plot.bar()"
   ]
  },
  {
   "cell_type": "code",
   "execution_count": 22,
   "id": "0c73d774",
   "metadata": {},
   "outputs": [
    {
     "data": {
      "text/plain": [
       "<AxesSubplot:ylabel='Job Type'>"
      ]
     },
     "execution_count": 22,
     "metadata": {},
     "output_type": "execute_result"
    },
    {
     "data": {
      "image/png": "[encoded data removed]",
      "text/plain": [
       "<Figure size 432x288 with 1 Axes>"
      ]
     },
     "metadata": {},
     "output_type": "display_data"
    }
   ],
   "source": [
    "# Plotting a pie chart to show the different job types\n",
    "df[\"Job Type\"].value_counts()[:7].plot.pie()"
   ]
  },
  {
   "cell_type": "code",
   "execution_count": 23,
   "id": "7e0500a9",
   "metadata": {},
   "outputs": [
    {
     "data": {
      "text/plain": [
       "<AxesSubplot:>"
      ]
     },
     "execution_count": 23,
     "metadata": {},
     "output_type": "execute_result"
    },
    {
     "data": {
      "image/png": "[encoded data removed]",
      "text/plain": [
       "<Figure size 432x288 with 1 Axes>"
      ]
     },
     "metadata": {
      "needs_background": "light"
     },
     "output_type": "display_data"
    }
   ],
   "source": [
    "# Plotting a bar graph to show the distribution of salaries \n",
    "df[\"Salary\"].value_counts()[1:25].plot.bar()"
   ]
  },
  {
   "cell_type": "code",
   "execution_count": 24,
   "id": "01ec87f8",
   "metadata": {},
   "outputs": [
    {
     "data": {
      "text/plain": [
       "<AxesSubplot:>"
      ]
     },
     "execution_count": 24,
     "metadata": {},
     "output_type": "execute_result"
    },
    {
     "data": {
      "image/png": "[encoded data removed]",
      "text/plain": [
       "<Figure size 432x288 with 1 Axes>"
      ]
     },
     "metadata": {
      "needs_background": "light"
     },
     "output_type": "display_data"
    }
   ],
   "source": [
    "# Plotting a bar graph to show the distribution of upper salary range\n",
    "df[\"Upper Salary Range\"].value_counts().plot.bar()"
   ]
  },
  {
   "cell_type": "code",
   "execution_count": 25,
   "id": "5f2f1929",
   "metadata": {},
   "outputs": [
    {
     "data": {
      "text/plain": [
       "<AxesSubplot:>"
      ]
     },
     "execution_count": 25,
     "metadata": {},
     "output_type": "execute_result"
    },
    {
     "data": {
      "image/png": "[encoded data removed]",
      "text/plain": [
       "<Figure size 432x288 with 1 Axes>"
      ]
     },
     "metadata": {
      "needs_background": "light"
     },
     "output_type": "display_data"
    }
   ],
   "source": [
    "# Plotting a bar graph to show the distribution of lower salary range\n",
    "df[\"Lower Salary Range\"].value_counts().plot.bar()"
   ]
  },
  {
   "cell_type": "code",
   "execution_count": 26,
   "id": "c506000b",
   "metadata": {},
   "outputs": [
    {
     "data": {
      "text/plain": [
       "<AxesSubplot:title={'center':'Distribution of Job by Career Level'}, ylabel='Career Level'>"
      ]
     },
     "execution_count": 26,
     "metadata": {},
     "output_type": "execute_result"
    },
    {
     "data": {
      "image/png": "[encoded data removed]",
      "text/plain": [
       "<Figure size 432x288 with 1 Axes>"
      ]
     },
     "metadata": {},
     "output_type": "display_data"
    }
   ],
   "source": [
    "# Plotting a pie chart to show the distribution of the different career levels.\n",
    "df[\"Career Level\"].value_counts().plot(kind = \"pie\", title = \"Distribution of Job by Career Level\")"
   ]
  }
 ],
 "metadata": {
  "kernelspec": {
   "display_name": "PythonData",
   "language": "python",
   "name": "pythondata"
  },
  "language_info": {
   "codemirror_mode": {
    "name": "ipython",
    "version": 3
   },
   "file_extension": ".py",
   "mimetype": "text/x-python",
   "name": "python",
   "nbconvert_exporter": "python",
   "pygments_lexer": "ipython3",
   "version": "3.7.13"
  }
 },
 "nbformat": 4,
 "nbformat_minor": 5
}
